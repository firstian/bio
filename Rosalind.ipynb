{
 "cells": [
  {
   "cell_type": "markdown",
   "id": "6d9505fc",
   "metadata": {},
   "source": [
    "## Set up"
   ]
  },
  {
   "cell_type": "code",
   "execution_count": 1,
   "id": "5387c546",
   "metadata": {},
   "outputs": [],
   "source": [
    "import math\n",
    "import numpy as np\n",
    "import pprint\n",
    "import re\n",
    "\n",
    "from collections import Counter\n",
    "from io import StringIO\n",
    "from Bio import SeqIO\n",
    "\n",
    "codon_table = { 'UUU':'F',     'CUU':'L',     'AUU':'I',     'GUU':'V',\n",
    "                'UUC':'F',     'CUC':'L',     'AUC':'I',     'GUC':'V',\n",
    "                'UUA':'L',     'CUA':'L',     'AUA':'I',     'GUA':'V',\n",
    "                'UUG':'L',     'CUG':'L',     'AUG':'M',     'GUG':'V',\n",
    "                'UCU':'S',     'CCU':'P',     'ACU':'T',     'GCU':'A',\n",
    "                'UCC':'S',     'CCC':'P',     'ACC':'T',     'GCC':'A',\n",
    "                'UCA':'S',     'CCA':'P',     'ACA':'T',     'GCA':'A',\n",
    "                'UCG':'S',     'CCG':'P',     'ACG':'T',     'GCG':'A',\n",
    "                'UAU':'Y',     'CAU':'H',     'AAU':'N',     'GAU':'D',\n",
    "                'UAC':'Y',     'CAC':'H',     'AAC':'N',     'GAC':'D',\n",
    "                'UAA':'Stop',  'CAA':'Q',     'AAA':'K',     'GAA':'E',\n",
    "                'UAG':'Stop',  'CAG':'Q',     'AAG':'K',     'GAG':'E',\n",
    "                'UGU':'C',     'CGU':'R',     'AGU':'S',     'GGU':'G',\n",
    "                'UGC':'C',     'CGC':'R',     'AGC':'S',     'GGC':'G',\n",
    "                'UGA':'Stop',  'CGA':'R',     'AGA':'R',     'GGA':'G',\n",
    "                'UGG':'W',     'CGG':'R',     'AGG':'R',     'GGG':'G'}\n",
    "\n",
    "def read_fasta(filepath):\n",
    "    seqlist = {}\n",
    "    for record in SeqIO.parse(filepath, 'fasta'):\n",
    "        seqlist[record.id] = str(record.seq)\n",
    "    return seqlist"
   ]
  },
  {
   "cell_type": "markdown",
   "id": "73ccde42",
   "metadata": {},
   "source": [
    "## Counting DNA Nucleotides\n",
    "\n",
    "Given: A DNA string s of length at most 1000 nt.\n",
    "\n",
    "Return: Four integers (separated by spaces) counting the respective number of times that the symbols 'A', 'C', 'G', and 'T' occur in s."
   ]
  },
  {
   "cell_type": "code",
   "execution_count": 2,
   "id": "def2b7dd",
   "metadata": {},
   "outputs": [
    {
     "name": "stdout",
     "output_type": "stream",
     "text": [
      "204 237 236 223\n"
     ]
    }
   ],
   "source": [
    "def count_dna(s):\n",
    "    counts = {'A': 0, 'C': 0, 'G': 0, 'T':0}\n",
    "    for c in s:\n",
    "        counts[c] += 1\n",
    "    return list(counts.values())\n",
    "\n",
    "with open('./rosalind_dna.txt') as f:\n",
    "    s = f.read().strip()\n",
    "    print(' '.join(map(str, count_dna(s))))"
   ]
  },
  {
   "cell_type": "markdown",
   "id": "7948e553",
   "metadata": {},
   "source": [
    "## Transcribing DNA into RNA\n",
    "\n",
    "An RNA string is a string formed from the alphabet containing 'A', 'C', 'G', and 'U'.\n",
    "\n",
    "Given a DNA string t corresponding to a coding strand, its transcribed RNA string u is formed by replacing all occurrences of 'T' in t with 'U' in u.\n",
    "\n",
    "Given: A DNA string t having length at most 1000 nt.\n",
    "\n",
    "Return: The transcribed RNA string of t."
   ]
  },
  {
   "cell_type": "code",
   "execution_count": 3,
   "id": "ca6798f9",
   "metadata": {},
   "outputs": [
    {
     "name": "stdout",
     "output_type": "stream",
     "text": [
      "UCAGUCCAGAGUCCCUCAUACUACGACGUUUGGUGACUGUAUCUAGUAUUAUGCCCUUUGCUUAUUAGCCCAGCCGGAGUGUUUUUUUAUCAGCUGAGUCAACAUCAGUAGUCUACGGUGGCGACUUGUACAAUUACCAGACCGAAGUCUCGCCCUGGUAGAUGUCCCUGGCGUUCCACUCUGUUACGGACAUUGUGCCUCAGCACGUUACGUGUGGCGAGUACGCGGACCUGAUAACGACUUUAUACGUACGUGCAUCUGAUUCUGCAACACACUUUGAGGCCCGAAUACGAUCCGUGCGUCUUUCUAAACGACCGAUUUAAGCCACGGGGCCGCAAGGGAUAUUCAGCGUUAUACGAUGCACACAGUGACCGCAGAUCUAACGGUAGUUGGUUGGCGGAUUUGUGACGACGCUCCUUUAUCCACCGCCAACAUCGUAUUUACGGUUUGACUCAGGGUGUAGCCGCUCUGGUGUGGGCACCGAAGUGGGUACUUGUCACGUCUACCAAGUGUGACGUCGGGUUCCCACCAGUACGAGUCGACAAACCGCUAACAUGAGAGUUGACACCAUGAGGUACAGGAGAACUUAAAAUUUCAUACUUUGGCUUUCCUAAACUAUGCUGUGACGACCUGGACAUGGAAUCGUGCGCGUUCGUUCAUGUAGCCUGACCUGCAAGCCUGAAGCUAGACACGAUAUAUGCUUUCGUGCUUGUGUGGGGUGUCCUCCUGGGUUGCGACACCAGCAGUAUACGAUCAACACCUCAUAUCUCUCUAAUUUGACGAGCCUCUACCUAACGAGCUCUCAGCAACUUUUGGAACGUGUUCUAUCGGCAAAUAUGUCUACGGUCUCACGGCCCCCAAAGCUAUACCGAUGAUUCACUGGAUAUUUUGCUUACUUCAUUAACGCUAAGUUUCUGGCAUCAGCCACCCAAUGAAC\n"
     ]
    }
   ],
   "source": [
    "with open('./rosalind_rna.txt') as f:\n",
    "    s = f.read().strip()\n",
    "    print(s.replace('T', 'U'))"
   ]
  },
  {
   "cell_type": "markdown",
   "id": "07bef1d2",
   "metadata": {},
   "source": [
    "## Complementing a Strand of DNA\n",
    "\n",
    "In DNA strings, symbols 'A' and 'T' are complements of each other, as are 'C' and 'G'.\n",
    "\n",
    "The reverse complement of a DNA string s is the string sc formed by reversing the symbols of s, then taking the complement of each symbol (e.g., the reverse complement of \"GTCA\" is \"TGAC\").\n",
    "\n",
    "Given: A DNA string s of length at most 1000 bp.\n",
    "\n",
    "Return: The reverse complement sc of s."
   ]
  },
  {
   "cell_type": "code",
   "execution_count": null,
   "id": "24854e36",
   "metadata": {},
   "outputs": [],
   "source": [
    "def revc_dna(s):\n",
    "    trans_dict = {'A': 'T', 'T': 'A', 'C': 'G', 'G': 'C'}\n",
    "    table = ''.maketrans(trans_dict)\n",
    "    return s.translate(table)[::-1]\n",
    "\n",
    "with open('./rosalind_revc.txt') as f:\n",
    "    print(revc_dna(f.read().strip()))"
   ]
  },
  {
   "cell_type": "markdown",
   "id": "01c6cf3a",
   "metadata": {},
   "source": [
    "## Rabbits and Recurrence Relations\n",
    "\n",
    "Given: Positive integers n≤40 and k≤5.\n",
    "\n",
    "Return: The total number of rabbit pairs that will be present after n months, if we begin with 1 pair and in each generation, every pair of reproduction-age rabbits produces a litter of k rabbit pairs (instead of only 1 pair)."
   ]
  },
  {
   "cell_type": "code",
   "execution_count": null,
   "id": "e5737be1",
   "metadata": {},
   "outputs": [],
   "source": [
    "def rabbit_pop(n, k):\n",
    "    p0, p1 = 1, 1\n",
    "    for i in range(2, n):\n",
    "        p0, p1 = p1, (k * p0 + p1)\n",
    "    return p1\n",
    "\n",
    "print(rabbit_pop(36, 5))"
   ]
  },
  {
   "cell_type": "markdown",
   "id": "4928b71b",
   "metadata": {},
   "source": [
    "## Computing GC Content\n",
    "\n",
    "Given: At most 10 DNA strings in FASTA format (of length at most 1 kbp each).\n",
    "\n",
    "Return: The ID of the string having the highest GC-content, followed by the GC-content of that string. Rosalind allows for a default error of 0.001 in all decimal answers unless otherwise stated; please see the note on absolute error below."
   ]
  },
  {
   "cell_type": "code",
   "execution_count": null,
   "id": "1c3a7e17",
   "metadata": {},
   "outputs": [],
   "source": [
    "def cal_gc_content(seq):\n",
    "    arr = np.array(list(seq))\n",
    "    return sum((arr == 'C') | (arr == 'G'))/len(seq) * 100\n",
    "\n",
    "\n",
    "seqlist = read_fasta('./rosalind_gc.txt')\n",
    "gc_contents = {k: cal_gc_content(v) for (k, v) in seqlist.items()}\n",
    "pprint.pprint(gc_contents)\n",
    "max_gc = max(gc_contents, key=gc_contents.get)\n",
    "print(max_gc)\n",
    "print(gc_contents[max_gc])"
   ]
  },
  {
   "cell_type": "markdown",
   "id": "e5f32282",
   "metadata": {},
   "source": [
    "## Counting Point Mutations\n",
    "\n",
    "Given: Two DNA strings s and t of equal length (not exceeding 1 kbp).\n",
    "\n",
    "Return: The Hamming distance dH(s,t)."
   ]
  },
  {
   "cell_type": "code",
   "execution_count": null,
   "id": "c3f2b69e",
   "metadata": {},
   "outputs": [],
   "source": [
    "with open('./rosalind_hamm.txt') as f:\n",
    "    st = np.array([list(r) for r in f.read().splitlines()]) # convert two string into 2xN char array\n",
    "    print(np.sum(st[0,:] != st[1,:]))"
   ]
  },
  {
   "cell_type": "markdown",
   "id": "80809205",
   "metadata": {},
   "source": [
    "## Mendel's First Law\n",
    "\n",
    "Given: Three positive integers k, m, and n, representing a population containing k+m+n organisms: k individuals are homozygous dominant for a factor, m are heterozygous, and n are homozygous recessive.\n",
    "\n",
    "Return: The probability that two randomly selected mating organisms will produce an individual possessing a dominant allele (and thus displaying the dominant phenotype). Assume that any two organisms can mate."
   ]
  },
  {
   "cell_type": "code",
   "execution_count": null,
   "id": "a44246cd",
   "metadata": {},
   "outputs": [],
   "source": [
    "# Because there are far fewer combinations generate aa genotype, it is easier to count aa's and\n",
    "# then substract it from one to get the probability of AA and Aa. We have to factor in the \n",
    "# probability of drawing out each parent, and then figure out the probability of that cross\n",
    "# generating aa:\n",
    "# - Aa x Aa: 25% aa\n",
    "# - Aa x aa: 50% aa\n",
    "# - aa x Aa: 50% aa (same as above, but different event)\n",
    "# - aa x aa: 100% aa\n",
    "#\n",
    "# The probability of drawing parent without replacement means the denominator for the first\n",
    "# parent is k+m+n, the second parent is k+m+n-1\n",
    "def mendel_cross(AA_cnt, Aa_cnt, aa_cnt):\n",
    "    total = AA_cnt + Aa_cnt + aa_cnt\n",
    "    aa_child = aa_cnt * (aa_cnt - 1) + 1.0 * Aa_cnt * aa_cnt + 0.25 * Aa_cnt * (Aa_cnt - 1)\n",
    "    return 1 - (aa_child/(total*(total - 1)))\n",
    "\n",
    "mendel_cross(15,24,20)"
   ]
  },
  {
   "cell_type": "markdown",
   "id": "a7745993",
   "metadata": {},
   "source": [
    "## Translating RNA into Protein\n",
    "\n",
    "Given: An RNA string s corresponding to a strand of mRNA (of length at most 10 kbp).\n",
    "\n",
    "Return: The protein string encoded by s."
   ]
  },
  {
   "cell_type": "code",
   "execution_count": 5,
   "id": "d444f68d",
   "metadata": {},
   "outputs": [
    {
     "name": "stdout",
     "output_type": "stream",
     "text": [
      "MRRRSCSKFTAQRNYGSPRTESHPTLRRLCVLVGKHLSYSNTCGFAQRPQRITRCREGRTTTSVWWCVELNILHSTPSKAMAQHTRNASLSHGPGACGPHLVTEAKSIDPRVERSRVILFAAWSFLPVLKGVSIYAGSRCWRGRTILNHTLLNYSSLRLDSAVSRCAKRVPPFNCTLVMTGLYHHERRRKAVELNLDLLNAGLCSIDYQLKLPHRVLHRALQPKSPGTWVCRREGLGADRSKRADTNLRSAAAKAELMTAGLYRSRLKPKESSCISLNGTDKRMVDDLSTMAYTPKGTCNLTDSRYLQLPLARPGPCHGPATISIKGYVGAGGMSDLEKGPPARRAVGIHIKQSAGRHAIPAPAWGKLSGTADLSPAWFSPKSNFRSAADAANITKPEGGQLMTHRTSSCYVSLAVNRFKMDWCSYGTHHRQIIPAWQTQRLCGSCHLRESDVEGVNGARTRSHLPSEGQAESNSGLSHGADRASAIPIAQLEPYQISHASCSSSGIFGYEDKEGALLDSNFFPVVSDSEAYIGALQLVIRRVSSKKSSELYALIVRQERQVIPWFTLVGTRYNIYSILFLVPACKSGRGDSNIPVDCAIEGALDASRSMHFFLTCSLAERDYPAISRGHHHRKSACTERAINRTQYINAISLAPDLDCLGSLKRNVVHKPISRRAEAVYNRNCTVYTCYTFELIQPPGFATSVVVRGKRVFHRTRMRESNTALNFRTALGRERDVDKFWAVLRSTITASCISFIYSTVGLERKARITYWPALHAFTLMQQILSFTGDGSKALVDYKSYGKCVINTLGDWPSGLRGRVGSRTLTFKKCNQLTLIMRVSKTLVVSITSRCVDETPEFCRTQLRGGHVPHSAPWMLFPSTELTTIPLELIPFSRELSSCYLLRHPQAGHIATLAELPVSTRLLLGRWVTTSASASNLSGTLRLDAAIDERVKLMRQNRVRALADLSRDHMILGDMSLTPSTRSPTARDAGATILMIPLQPSRSGAFRDFLVALTCGLVLPASPPVPKESESRYRDADTVSRRLWTAGYRRQTLEPRLIPVLKIDQNGLTELSRRSLSCQNDTSRLCGGFVGVQYSYKRSELGNPSKRAGLVVSLVATNAKTCSRGHQISPFSMPGLVFRPPPSCSLKNTTVALDVLSLPAFSVDSNQLTQKGRIVRQVLSLLHKDPPVTSMARPNYSLQVSDWRGKACTKPVQTHRYLRPPFNPSDVRRSHPARCGTHRSARKGHFSYHCFTCALRLCSRVYLPSRSATSRVDQIQAKTRTEFKSTHESEVFTWVRDLPLRVSCRQQFSFFSCSFMISECQLTRGGCHSRKSNLRTVAELVFVNVISGYPERIPSDFQSSKRSVRFDSNAVQEDITNSISPSSVCRSVTPPLNHLLPNSTPVRCRNYRQRLGDLASAATNSTPWFNYGPKARDFVIIAIASWFGYSSRVGPRLARTSVLESLVNPPSRVSHTYPNTTITPGCMFVNRFVLSFFTGVQQVVVNRNSTRLSLPCWRIRHASTGPTREKWRRPVIGLKMELYPCVPPNDCSTMTARNRSPVTGPIQDPPVCPGSSRTMWSWFRRPSASSAVQFSSRYRPLYTVNKTGCFHAGRRGYKMGPVSLTRLTNLDGKPTIASVKPAGSLCAISCTNSSSPTALNLNTTGLICDALSGNIVGWSNSFIVSLSWNLRAKALITMALTLDLLVAKTVPVKRPSLTAHPFAGSRFTLCRYAPIADLSGRPCRGRMTRRSTMDRDFTLCSVNLRHALQATVFFNYRCDHAFALQTFQKADSCLIPSYLIRSHLYRGLSRDVIIPYLWWRRRHQATIVCARTVQPPRWTTDQSCFVNTKNETVGPAGTPPIRTTITRSLTARRLGVDSSSTKRSYPRGLGRRSRSNTVLGRVATLDTAVDFVYRPHSSVVSSHYGRKPLGEYALEFCTGHSVVPRNNNSPGYDILLLSCSDRLRRLWHRSDLLTLKKRAGSSDLSCAHKAKSHQNPPMHLLDAWTASSAFGDAKRQCLMLRTRYVTVPEVRYHCVGPRDGEALKTPGSRRTTEETTCGRLVQSVCPVSCLAHPSNLLLPPHCQSPCDEKIGLLCRGRLFCIFQCPNVLFVTGGRPQHLSDAAVIRILRHDPERATALFKTTRACEMQADSFNVLPTNSSIKPRPPHARPDITYPHWCSSQKFSIVLPEESSAKSIHAKARHLFTDMHYHWSILLGKVHIEAFGVRPFCKVLFVWRASCTYVISSAPSGFFLNTNRLVRFSTSFRVSPPALKMCSPSRFLLYASLLTNREATDAVARVAKTWLKGFRYKFSPWITMSPQKVGSVPGADRYQKPGPVYRRAWWRDYWLISLSPFVTVRSRPASHISGLGSISSRVYFPHSINYVVPTCKFRRATERSVASPSPNESTNSKYFGHLALILVLASGWPFQGVSGLTGGERAPMCSKNEITPRNTMGLDFCRCGTQELFAETRQPRPWLRRQVMSAATCDFQCIRLRPRSPIGTREEHPRSTPIRGLLLVISDGLYLITSQEVHLTVLVFIMAPLDQCRVASDKVCLVVILWWPSKGPWGERRVPIPTTDPLSAVGIGSCSLMSQERLGFHLCFLWVNICSICYNITQQKLMRVVAPHPISAVTSNPLSAKKRRVGREVEVDIAAIGYLIYSRAVLRSHAWSLLPRFSTCYRKGNDGQTGMEIVLSIAWDYHTNTSP\n"
     ]
    }
   ],
   "source": [
    "def rna_to_protein(seq):\n",
    "    protein = ''\n",
    "    for i in range(0, len(seq), 3):\n",
    "        ac = codon_table[seq[i:i+3]]\n",
    "        if ac == 'Stop':\n",
    "            break\n",
    "        \n",
    "        protein += ac\n",
    "            \n",
    "    return protein\n",
    "\n",
    "\n",
    "with open('./rosalind_prot.txt') as f:\n",
    "    s = f.readline()\n",
    "    print(rna_to_protein(s.strip()))"
   ]
  },
  {
   "cell_type": "markdown",
   "id": "797f2e78",
   "metadata": {},
   "source": [
    "## Finding a Motif in DNA\n",
    "\n",
    "Given: Two DNA strings s and t (each of length at most 1 kbp).\n",
    "\n",
    "Return: All locations of t as a substring of s."
   ]
  },
  {
   "cell_type": "code",
   "execution_count": null,
   "id": "44b028ad",
   "metadata": {},
   "outputs": [],
   "source": [
    "s = 'TACCTATAGTGATGGACCTATATCTCTAACCTATATAATAACCTATAACCTATAGTTGTAACTACCTATACCACCTATAAGGTACTTAGGACCTATACGCAGCTACCTATAACCTATAGACCTATATACCTATACAACCTATAGACCTATAAACCTATACACCTATAACCTATAAAACCTATACACACCTATAAGCTAACCTATATTCACCTATAATACCTATAACACCTATAGACCTATAATTGACCTATAACCTATAACCTATACGCTACCTATAACCTATATCTACACCGACCTATATTTTAGCCGCACCTATACCCACCTATAGTACCTATAAACCTATAGTATTCTGACCTATAAACCTATACCTACCTATAAACCTATACTACCTATATGGAACCTATATACCTATACACCTATAACCTATACAACCTATATTCGTAACCTATAAAGTAATACCTATAAACCTATAACCTATAGCACCTATAGACCTATAAACAGACACCTATAAACCTATAACCTATAACCTATACCTCCACACCTATACCTGACCTATAACCGCATTGTAGTAGACCTATACACCTATAACCTATACTCTAGCATGCACCTATAGGCCATTCCACCTATAACCTATAAACCTATAGCCATCAAAACCTATAGGGTATAGCGTCAGACCTATAACCTATAACCTATAATCGTTACCTATAAACCTATATGAGTACCTATATGAGACCTATAACCTATAACCTATAAGTTGAGGACCTATAACCTATAACCTATACGGTCAACCATTTGCAGTACCTATAACCTATAGACCTATACGAAACGTACCTATAGCGACCTATAAAACCTATAGACCTATAGTTACCTATAACCTATAGGCGACCTATATGAATCATATACCTATAACCTATAACCTATACGACCTATATATATAACCTATAAACCTATAGGTGGC'\n",
    "t = 'ACCTATAAC'\n",
    "\n",
    "def find_motif(s, t):\n",
    "    motif = []\n",
    "    start = 0;\n",
    "    while start < len(s):\n",
    "        start = s.find(t, start)\n",
    "        if start >= 0:\n",
    "            start = start + 1\n",
    "            motif.append(start)\n",
    "        else:\n",
    "            break\n",
    "            \n",
    "    return motif\n",
    "\n",
    "print(' '.join(map(str, find_motif(s, t))))"
   ]
  },
  {
   "cell_type": "markdown",
   "id": "f3d638fd",
   "metadata": {},
   "source": [
    "## Consensus and Profile\n",
    "\n",
    "Given: A collection of at most 10 DNA strings of equal length (at most 1 kbp) in FASTA format.\n",
    "\n",
    "Return: A consensus string and profile matrix for the collection. (If several possible consensus strings exist, then you may return any one of them.)"
   ]
  },
  {
   "cell_type": "code",
   "execution_count": null,
   "id": "d20b6268",
   "metadata": {},
   "outputs": [],
   "source": [
    "sample =\"\"\">Rosalind_1\n",
    "ATCCAGCT\n",
    ">Rosalind_2\n",
    "GGGCAACT\n",
    ">Rosalind_3\n",
    "ATGGATCT\n",
    ">Rosalind_4\n",
    "AAGCAACC\n",
    ">Rosalind_5\n",
    "TTGGAACT\n",
    ">Rosalind_6\n",
    "ATGCCATT\n",
    ">Rosalind_7\n",
    "ATGGCACT\"\"\"\n",
    "\n",
    "import numpy as np\n",
    "\n",
    "def calc_profile(seqlist):\n",
    "    bases = np.array(list('ACGT'))\n",
    "    seq_mat = np.array([list(s) for s in list(seqlist.values())])\n",
    "    profile = np.array([(seq_mat == g).sum(axis=0) for g in bases])\n",
    "    consensus = ''.join(bases[profile.argmax(axis=0)])\n",
    "    return consensus, profile\n",
    "    \n",
    "def print_profile(prof):\n",
    "    for i, b in enumerate(list('ACGT')):\n",
    "        print(b + ': ' + ' '.join(map(str,prof[i])))\n",
    "        \n",
    "seqlist = read_fasta('./rosalind_cons.txt')\n",
    "#seqlist = read_fasta(StringIO(sample))\n",
    "cons, prof = calc_profile(seqlist)\n",
    "print(cons)\n",
    "print_profile(prof)"
   ]
  },
  {
   "cell_type": "markdown",
   "id": "e4e13fb1",
   "metadata": {},
   "source": [
    "## Mortal Fibonacci Rabbits\n",
    "\n",
    "Given: Positive integers n≤100 and m≤20.\n",
    "\n",
    "Return: The total number of pairs of rabbits that will remain after the n-th month if all rabbits live for m months.\n",
    "\n",
    "In order to solve this problem, we have to go back to understanding why Fibonacci sequence models the problem. Every pair of rabbit starts out as new, and can't reproduce after one month. If there are no death, then the new pair plus the old pair works out to be F_n = F_n-1 + F_n-2. But if there are deaths, simple recurrence relationship no longer holds. We have to keep track of the age of the rabbits. The key observation is that the newly born rabbit every month is F_n-1 - newborn_n-1. This can be modeled as a shift register, with the dead rabbits shifted off to the right."
   ]
  },
  {
   "cell_type": "code",
   "execution_count": null,
   "id": "a659e440",
   "metadata": {},
   "outputs": [],
   "source": [
    "def mortal_rabbit_pop(num_gen, months):\n",
    "    arr = np.zeros(months, dtype=np.uint64)\n",
    "    arr[0] = 1\n",
    "    for i in range(num_gen-1):\n",
    "        gen1 = np.sum(arr[1:])\n",
    "        arr = np.roll(arr, 1)\n",
    "        arr[0] = gen1 \n",
    "    return np.sum(arr)\n",
    "        \n",
    "\n",
    "print(mortal_rabbit_pop(86, 19))"
   ]
  },
  {
   "cell_type": "markdown",
   "id": "39979e33",
   "metadata": {},
   "source": [
    "## Overlap Graphs\n",
    "\n",
    "Given: A collection of DNA strings in FASTA format having total length at most 10 kbp.\n",
    "\n",
    "Return: The adjacency list corresponding to O3. You may return edges in any order."
   ]
  },
  {
   "cell_type": "code",
   "execution_count": null,
   "id": "36eb8bf1",
   "metadata": {},
   "outputs": [],
   "source": [
    "sample='''>Rosalind_0498\n",
    "AAATAAA\n",
    ">Rosalind_2391\n",
    "AAATTTT\n",
    ">Rosalind_2323\n",
    "TTTTCCC\n",
    ">Rosalind_0442\n",
    "AAATCCC\n",
    ">Rosalind_5013\n",
    "GGGTGGG'''\n",
    "\n",
    "def calc_overlap_graph(seqlist, k):\n",
    "    og = []\n",
    "    for sk, sv in seqlist.items():\n",
    "        suffix = sv[-k:]\n",
    "        for pk, pv in seqlist.items():\n",
    "            if sk != pk and pv.startswith(suffix):\n",
    "                og.append((sk, pk))\n",
    "    return og\n",
    "\n",
    "\n",
    "#seqlist = read_fasta(StringIO(sample))\n",
    "seqlist = read_fasta('./rosalind_grph.txt')\n",
    "g = calc_overlap_graph(seqlist, 3)\n",
    "for e in g:\n",
    "    print(' '.join(e))"
   ]
  },
  {
   "cell_type": "markdown",
   "id": "730ed82e",
   "metadata": {},
   "source": [
    "## Calculating Expected Offspring\n",
    "\n",
    "Given: Six nonnegative integers, each of which does not exceed 20,000. The integers correspond to the number of couples in a population possessing each genotype pairing for a given factor. In order, the six given integers represent the number of couples having the following genotypes:\n",
    "\n",
    "1. AA-AA\n",
    "2. AA-Aa\n",
    "3. AA-aa\n",
    "4. Aa-Aa\n",
    "5. Aa-aa\n",
    "6. aa-aa\n",
    "\n",
    "Return: The expected number of offspring displaying the dominant phenotype in the next generation, under the assumption that every couple has exactly two offspring."
   ]
  },
  {
   "cell_type": "code",
   "execution_count": null,
   "id": "02cfc20a",
   "metadata": {},
   "outputs": [],
   "source": [
    "data = [17364, 18204, 17390, 18175, 18174, 19115]\n",
    "\n",
    "def expected_offspring(genotype, num_offspring):\n",
    "    prob_A = np.array([1.0, 1.0, 1.0, 0.75, 0.5, 0.0])\n",
    "    arr = np.array(genotype)\n",
    "    return np.sum(arr * prob_A) * num_offspring\n",
    "    \n",
    "\n",
    "expected_offspring(data, 2)"
   ]
  },
  {
   "cell_type": "markdown",
   "id": "987e03ce",
   "metadata": {},
   "source": [
    "## Finding a Shared Motif\n",
    "\n",
    "Given: A collection of k (k≤100) DNA strings of length at most 1 kbp each in FASTA format.\n",
    "\n",
    "Return: A longest common substring of the collection. (If multiple solutions exist, you may return any single solution.)\n",
    "\n",
    "Below are two different solutions. The first one is the standard DP approach to find all of the longest common substring. The second one is to use binary search to quickly zero in the length of the LCS using binary search. The performance difference is 1e4x. The primary advantage of the binary search approach is that it relies on python's native library to look for presence of a substring, which likely is highly optimized. In comparison, the DP approach does all the comparison in python code, and incurs nxm space per string pair. Tracking the intervals and trying to intersect them is also cumbersome."
   ]
  },
  {
   "cell_type": "code",
   "execution_count": null,
   "id": "9e1211ba",
   "metadata": {},
   "outputs": [],
   "source": [
    "sample='''>Rosalind_1\n",
    "GATTACA\n",
    ">Rosalind_2\n",
    "TAGACCA\n",
    ">Rosalind_3\n",
    "ATACA'''        \n",
    "\n",
    "import time\n",
    "\n",
    "# select shortest string as the base strand\n",
    "# for each strand\n",
    "#   compute pairwise common substring set, sorted by starting index\n",
    "#   intersect the substring with the previous set\n",
    "# find the longest interval in the intersection\n",
    "class IntervalList:\n",
    "    \"\"\"A class that tracks a list of intervals.\"\"\"\n",
    "    class Interval:\n",
    "        def __init__(self, begin, end):\n",
    "            self.begin = begin\n",
    "            self.end = end\n",
    "        \n",
    "        def __lt__(self, rhs):\n",
    "            return self.begin < rhs.begin\n",
    "        \n",
    "        def __repr__(self):\n",
    "            return f'({self.begin}, {self.end})'\n",
    "        \n",
    "        def size(self):\n",
    "            return self.end -self.begin\n",
    "                \n",
    "    def __init__(self):\n",
    "        # A list of tuples (begin, end)\n",
    "        self.intervals = []\n",
    "    \n",
    "    def __repr__(self):\n",
    "        return self.intervals.__repr__()\n",
    "    \n",
    "    def add(self, begin, end):\n",
    "        from bisect import insort\n",
    "        if (begin < end):\n",
    "            insort(self.intervals, self.Interval(begin, end))\n",
    "            \n",
    "    def intersect(self, il2):\n",
    "        ret = IntervalList()\n",
    "        i, j = 0, 0\n",
    "        while i < len(self.intervals) and j < len(il2.intervals):\n",
    "            i1, i2 = self.intervals[i], il2.intervals[j]\n",
    "            b = max(i1.begin, i2.begin)\n",
    "            e = min(i1.end, i2.end)\n",
    "            if b < e:\n",
    "                ret.add(b, e)\n",
    "                \n",
    "            if i1.end < i2.end:\n",
    "                i += 1\n",
    "            else:\n",
    "                j += 1\n",
    "        return ret\n",
    "\n",
    "    def max_intervals(self):\n",
    "        if len(self.intervals) == 0: return []\n",
    "        \n",
    "        lens = [i.size() for i in self.intervals]\n",
    "        maxlen = max(lens)\n",
    "        return [(i.begin, i.end) for i in self.intervals if i.size() == maxlen]\n",
    "\n",
    "    \n",
    "def find_common_substr(s1, s2):\n",
    "    dim = (len(s1), len(s2))\n",
    "    mat = np.zeros(dim, dtype=np.int16)\n",
    "    intervals = IntervalList()\n",
    "    substrs = set()\n",
    "    for i in range(dim[0]):\n",
    "        for j in range(dim[1]):\n",
    "            if s1[i] == s2[j]:\n",
    "                if i > 0 and j > 0:\n",
    "                    mat[i][j] = 1 + mat[i-1][j-1]\n",
    "                else:\n",
    "                    mat[i][j] = 1\n",
    "                if mat[i][j] >= 2 and (i+1 >= dim[0] or j+1 >= dim[1] or s1[i+1] != s2[j+1]):\n",
    "                    b, e = i + 1 - mat[i][j], i+1\n",
    "                    ss = s1[b:e]\n",
    "                    if ss not in substrs:\n",
    "                        substrs.add(ss)\n",
    "                        intervals.add(b, e)\n",
    "    return intervals\n",
    "\n",
    "def longest_common_substring(strlist):\n",
    "    #strlist = strlist[0:2]\n",
    "    lens = [len(s) for s in strlist]\n",
    "    idx = np.argmin(lens)\n",
    "    ref_str = strlist[idx]\n",
    "    intervals = []\n",
    "    for i, s in enumerate(strlist):\n",
    "        if i != idx:\n",
    "            lcs = find_common_substr(ref_str, s)\n",
    "            intervals.append(lcs)\n",
    "            print(f'{i} of {len(strlist)}')\n",
    "\n",
    "    if len(intervals) > 1:\n",
    "        intersects = intervals[0].intersect(intervals[1])\n",
    "        for i in range(2, len(intervals)):\n",
    "            intersects = intersects.intersect(intervals[i])\n",
    "    else:\n",
    "        intersects = intervals[0]\n",
    "    \n",
    "    max_int = intersects.max_intervals()\n",
    "    if len(max_int) > 0:\n",
    "        return [ref_str[mi[0]:mi[1]] for mi in max_int]\n",
    "    else:\n",
    "        return '<None>'\n",
    "\n",
    "############################\n",
    "def common_substr(seq_0, seqs, start, length):\n",
    "    for i in range(start, len(seq_0) - length + 1):\n",
    "        substr = seq_0[i:i+length]\n",
    "        for seq in seqs:\n",
    "            if substr not in seq:\n",
    "                break\n",
    "        else:\n",
    "            return (i, substr)\n",
    "    return (-1, '')\n",
    "\n",
    "def longest_common_substr(seqs):\n",
    "    import math\n",
    "    seq_0 = seqs.pop()\n",
    "    low = 0\n",
    "    high = len(seq_0) + 1\n",
    "    start = 0\n",
    "    longest_substr = ''\n",
    "\n",
    "    while low + 1 < high:\n",
    "        mid = math.floor((low + high) / 2)\n",
    "        idx, substr = common_substr(seq_0, seqs, start, mid)\n",
    "        if idx > -1:\n",
    "            start = idx\n",
    "            longest_substr = substr\n",
    "            low = mid            \n",
    "        else:\n",
    "            high = mid\n",
    "\n",
    "    seqs.append(seq_0)\n",
    "\n",
    "    return longest_substr\n",
    "\n",
    "\n",
    "seqlist = read_fasta(StringIO(sample))\n",
    "#seqlist = read_fasta('./rosalind_lcsm.txt')\n",
    "start = time.time()\n",
    "#print(longest_common_substring(list(seqlist.values())))\n",
    "print(longest_common_substr(list(seqlist.values())))\n",
    "\n",
    "end = time.time()\n",
    "print(f'execution: {end-start}s')"
   ]
  },
  {
   "cell_type": "markdown",
   "id": "f38fb9ad",
   "metadata": {},
   "source": [
    "## Independent Alleles\n",
    "\n",
    "Given: Two positive integers k (k≤7) and N (N≤2k). In this problem, we begin with Tom, who in the 0th generation has genotype Aa Bb. Tom has two children in the 1st generation, each of whom has two children, and so on. Each organism always mates with an organism having genotype Aa Bb.\n",
    "\n",
    "Return: The probability that at least N Aa Bb organisms will belong to the k-th generation of Tom's family tree (don't count the Aa Bb mates at each level). Assume that Mendel's second law holds for the factors."
   ]
  },
  {
   "cell_type": "code",
   "execution_count": null,
   "id": "0fb2bf36",
   "metadata": {},
   "outputs": [],
   "source": [
    "# The important point to realize is that when crossing with a heterozygote, and counting offsprings that\n",
    "# are also heterozygotes, the probability is always 1/4 (check with the Punnet square). That probability\n",
    "# for any single offspring is constant across generations.\n",
    "#\n",
    "# Give k generations, there are 2^k offsprings, and thus it is really a binomial probability problem. For\n",
    "# at least N offsprings, we have to sum the probability of having N, N+1,...,2^k offspring that are all\n",
    "# heterozygotes (each with a probability of 1/4). For each case, the probability is nCx*p^x*(1-p)^(n-x).\n",
    "def ind_alleles(k, N):\n",
    "    total = 2**k\n",
    "    p = 0.0\n",
    "    for i in range(N, total+1):\n",
    "        p += math.comb(total, i)*(0.25**i)*(0.75**(total-i))\n",
    "    return p\n",
    "\n",
    "print(ind_alleles(6, 16))"
   ]
  },
  {
   "cell_type": "markdown",
   "id": "50bb7396",
   "metadata": {},
   "source": [
    "## Finding a Protein Motif\n",
    "\n",
    "Given: At most 15 UniProt Protein Database access IDs.\n",
    "\n",
    "Return: For each protein possessing the N-glycosylation motif, output its given access ID followed by a list of locations in the protein string where the motif can be found."
   ]
  },
  {
   "cell_type": "code",
   "execution_count": null,
   "id": "d36267d0",
   "metadata": {},
   "outputs": [],
   "source": [
    "%%time\n",
    "sample = '''A2Z669\n",
    "B5ZC00\n",
    "P07204_TRBM_HUMAN\n",
    "P20840_SAG1_YEAST'''\n",
    "\n",
    "def read_protein_seq(name):\n",
    "    from urllib.request import urlopen\n",
    "    prot_url = \"https://www.uniprot.org/uniprot/\" + name + \".fasta\"\n",
    "    with urlopen(prot_url) as resp:\n",
    "        content = resp.read().decode('utf-8')\n",
    "        for record in SeqIO.parse(StringIO(content), 'fasta'):\n",
    "            return str(record.seq)\n",
    "\n",
    "\n",
    "def find_protein_motif(name, seq):\n",
    "    # There is a trick here: we need to account for overlapping sequences, e.g.,\n",
    "    # 'SNTTSNNTTTQ', which has 'NTTS', 'NNTT', 'NTTT'. Thus, a simple approach\n",
    "    # [m.start(0)+1 for m in re.finditer(r'N[^P][ST][^P]', seq)]\n",
    "    # can't be used. We need to find motif one at a time, and then move the index\n",
    "    # and start from the next character of the match to catch all the duplicates.\n",
    "\n",
    "    index = 0\n",
    "    motifs = []\n",
    "    pattern = re.compile(r'N[^P][ST][^P]')\n",
    "    while m := pattern.search(seq, index):\n",
    "        index = m.start(0) + 1\n",
    "        motifs.append(index)\n",
    "\n",
    "    if motifs:\n",
    "        print(name)\n",
    "        # print(seq)\n",
    "        print(' '.join(map(str, motifs)))\n",
    "        # print([seq[index - 1:index + 3] for index in motifs])\n",
    "        # print('-------------------')\n",
    "    return motifs\n",
    "\n",
    "#proteins = sample.split()\n",
    "with open('./rosalind_mprt.txt') as f:\n",
    "    proteins = f.read().splitlines()\n",
    "\n",
    "for p in proteins:\n",
    "    seq = read_protein_seq(p)\n",
    "    find_protein_motif(p, seq)"
   ]
  },
  {
   "cell_type": "markdown",
   "id": "d8af51ca",
   "metadata": {},
   "source": [
    "## Inferring mRNA from Protein\n",
    "\n",
    "Given: A protein string of length at most 1000 aa.\n",
    "\n",
    "Return: The total number of different RNA strings from which the protein could have been translated, modulo 1,000,000. (Don't neglect the importance of the stop codon in protein translation.)"
   ]
  },
  {
   "cell_type": "code",
   "execution_count": null,
   "id": "0eb826fb",
   "metadata": {},
   "outputs": [],
   "source": [
    "sample = 'MTCMVPWNGMQIVSCEGFLDKWRTVHKFKYCYGKRLDFGYPGPFTASHFEDRGHTTLTRPMQPFLNDAEWMIHNRQFHNCRPFLQDHNTKGAPSEFMKHRFCIFYVGAEMRPGRCRGFIAPTFTDGMHDKNHRYRHNRGPDCCYRVDQCVWCFIHAEVMTPDEFTSFFKCEDHNLPIPMNFLWHSAGRVGLMFEVMGKQVIKYGSCGNGMREPLGDDNRSRQLCHKFDAKANYQKIRRMMCLNLDELMVSFRVKLVTLMELNDRVCMHCSSNTSCWNWAQIQFMWHMAHGELRLEHGNDSAILCWIWVEQELCMDKPGLPGGFQPPTPGEATLAQEPYVQDDPENPSHGWEALVHQVAWWAPNEFGIHPHRCEQQCGYTNISITCSVDQSDNARYDHCALLNICPIMMNDVQCNLNKDLRSGYIHRQNSVHFGAELAQEYWAMVYMSWCANWANQQVTHRRVGIQSSIMFNWPGVLTMVFYTAYVSAHTDQIMHDSGMCAGMRRRYPVVNHATSVGSCWAVLANGGFHHTDIFHNMAEPTQCWNMCAYAPADPMLCRFMHVAGGDDLSEAACERYNDHMSQDICYCRTKLPAWLACDRIQFYHVLVFFDQKSEVPESEPGFDKRPHHETHFLHIDEKRWGGYGYRHSTQWHHLVNSGENYDSNENGRYMHETLQAVQIHKSAGDMSPQEKFIVTSANKAMDKLTPIPWSGDESDKVAYELLWDRLGNAWESRLIAIPAEPVIYDSIFCNINTALGVWEEFILSECLLRRANIKEDMWFLEFVDRFLSVNRATKDKDCVHPQYSKFPNVRPCSSSAKRNENMLYGIQEGRTDCWAYSLFTNHRCCYIKRAPMKRMHNYFIDDLGWHWELIDQISSHINSHGWCHSAYWHIVVYKTYGHDKMALSIQPVPWCTGNPAWQLRDHCMISRQKKECTGDSCGDHCYDITPLIGEVVLTCQCLNLQRCWKHNRGICNRLWIFHFVVRYQHWYFIFKTHVYDFKQ'\n",
    "\n",
    "aa_freq = dict(Counter(codon_table.values()))\n",
    "\n",
    "def count_prot2rna(s):\n",
    "    num = aa_freq['Stop']\n",
    "    for c in s:\n",
    "        num = (num * aa_freq[c]) % 1000000\n",
    "\n",
    "    return num\n",
    "\n",
    "count_prot2rna(sample)"
   ]
  },
  {
   "cell_type": "markdown",
   "id": "c6a55259",
   "metadata": {},
   "source": [
    "## Open Reading Frames\n",
    "\n",
    "Given: A DNA string s of length at most 1 kbp in FASTA format.\n",
    "\n",
    "Return: Every distinct candidate protein string that can be translated from ORFs of s. Strings can be returned in any order."
   ]
  },
  {
   "cell_type": "code",
   "execution_count": null,
   "id": "503c08f0",
   "metadata": {},
   "outputs": [],
   "source": [
    "sample = '''>Rosalind_99\n",
    "AGCCATGTAGCTAACTCAGGTTACATGGGGATGACCCCGCGACTTGGATTAGAGTCTCTTTTGGAATAAGCCTGAATGATCCGAGTAGCATCTCAG'''\n",
    "\n",
    "def rna2amino(seq, start=0):\n",
    "    protein = ''\n",
    "    stop = start\n",
    "    for i in range(start, len(seq), 3):\n",
    "        if i + 3 <= len(seq):\n",
    "            aa = codon_table[seq[i:i+3]]\n",
    "            if aa != 'Stop':\n",
    "                protein += aa\n",
    "            else:\n",
    "                # We need to start right after the first AUG so that we can catch overlapping patterns\n",
    "                stop = start + 3\n",
    "                break\n",
    " \n",
    "    # If stop didn't get moved, we ran out of nucleotides without a stop codon    \n",
    "    return (protein, stop) if stop > start else ('', len(seq))\n",
    "            \n",
    "def rna2protein(rna):\n",
    "    prot_set = set()\n",
    "    pattern = re.compile(r'AUG')\n",
    "    index = 0\n",
    "    while m := pattern.search(rna, index):\n",
    "        protein, index = rna2amino(rna, m.start(0))\n",
    "        if protein:\n",
    "            prot_set.add(protein)\n",
    "    return prot_set\n",
    "\n",
    "def reading_frame_to_protein(seqlist):\n",
    "    for k, v in seqlist.items():\n",
    "        rev_comp = revc_dna(v)\n",
    "        s1 = rna2protein(v.replace('T', 'U'))\n",
    "        s2 = rna2protein(rev_comp.replace('T', 'U'))\n",
    "        return s1 | s2\n",
    "\n",
    "# seqlist = read_fasta(StringIO(sample))\n",
    "seqlist = read_fasta('./rosalind_orf.txt')\n",
    "prot_set = reading_frame_to_protein(seqlist)\n",
    "for p in prot_set:\n",
    "    print(p)"
   ]
  },
  {
   "cell_type": "markdown",
   "id": "d06684b8",
   "metadata": {},
   "source": [
    "## Enumerating Gene Olrders\n",
    "\n",
    "Given: A positive integer n≤7.\n",
    "\n",
    "Return: The total number of permutations of length n, followed by a list of all such permutations (in any order)."
   ]
  },
  {
   "cell_type": "code",
   "execution_count": null,
   "id": "c5a5da2a",
   "metadata": {},
   "outputs": [],
   "source": [
    "def generate_permutations(n):\n",
    "    if n <= 0:\n",
    "        return []\n",
    "    # base case\n",
    "    elif n == 1:\n",
    "        return [[1]]\n",
    "    \n",
    "    perm = []\n",
    "    last = generate_permutations(n-1)\n",
    "    for i in range(n):\n",
    "        for p in last:\n",
    "            perm.append([*p[0:i], n, *p[i:]])\n",
    "    \n",
    "    return perm\n",
    "\n",
    "perm = generate_permutations(3)\n",
    "print(len(perm))\n",
    "for p in perm:\n",
    "    print(' '.join(map(str, p)))"
   ]
  },
  {
   "cell_type": "markdown",
   "id": "287eaa3d",
   "metadata": {},
   "source": [
    "## Calculating Protein Mass\n",
    "\n",
    "Given: A protein string P of length at most 1000 aa.\n",
    "\n",
    "Return: The total weight of P. Consult the monoisotopic mass table."
   ]
  },
  {
   "cell_type": "code",
   "execution_count": null,
   "id": "4d7c9ca6",
   "metadata": {},
   "outputs": [],
   "source": [
    "mass_table_str='''\n",
    "A   71.03711\n",
    "C   103.00919\n",
    "D   115.02694\n",
    "E   129.04259\n",
    "F   147.06841\n",
    "G   57.02146\n",
    "H   137.05891\n",
    "I   113.08406\n",
    "K   128.09496\n",
    "L   113.08406\n",
    "M   131.04049\n",
    "N   114.04293\n",
    "P   97.05276\n",
    "Q   128.05858\n",
    "R   156.10111\n",
    "S   87.03203\n",
    "T   101.04768\n",
    "V   99.06841\n",
    "W   186.07931\n",
    "Y   163.06333\n",
    "'''\n",
    "\n",
    "mtl = mass_table_str.split()\n",
    "mass_table = dict(zip(mtl[0::2], map(float, mtl[1::2])))\n",
    "\n",
    "sample = 'ASEASATTLYVQMWPTMCHQAGTNNGQPLCQCCYSKVDPPMKRLKYWLGFGITTYGCCGWFHPAICDLHMKNEHRHDDHTYIFCTLYTIYLTIGPTRVCPWYMNNCCYGFYKTYKWKLYMTTFGQCTRPFRRNKDTDRYIWLDVNSYSLLTQCCIHDVTSKHCQPECDSIDWHLAHHFGDSHARWNEGRSCFWSQLFIHFCMFKHYCGVPEYMQNAAAPAARYQDWIWVSGYFMYWHHTGSVEFYQSTEADTIIYFHIQHTGCHMGMTPGVHHTIEKNCDNGDILGAKVTGQWSAVQRLTAQFLNQCQPILWYESASCVVEFIFMYAGQQLFADEWARTMNFGRGKHAKRIKYTEQANLPAEHMRLNARIAKYWRKNQMLKLEKTNIQTYRFAVHVYKHSCTGPDNRKAMCIGKCVVTWCVDVSLGYMYFWTPRVQSYIEMDYKARLGLNFGTVCKHNLYGRYQCGAWSGRKLNGYQSTCIRHCLVEDWAYYEDNIMHTSCFHAEELQVEGLMFYNVHISAKTMYCIQSSPALGYWKQPDPTYRFSSEPSGSPMDASFTSSFLVDMSQGIAVFTPQDQWNSIEMSTITVQCAAYRPSIFHFLIFIFHPLCMAYSSYGHGYQRPYLRATFPCLLDVILHAREGDIELDKTHGARHQNCKFWMKTMWNRRKLEHAKDKCVPILLYQWYTHTSMIMRSKDDKQEEPMNNKILHKCFTMCCISCPESFIMYCIHVWVFITMKVSGSMCGVCCYSAFRRTSISKAWCEGKKCFHHVQLFGSCNDAYDFFYDMHKEPHMLKKLGQSMQPKKGILPKLEHVNTSHECWPMQAQMVNNRFSGMEHGCWHPINISYFAIKYKCTVWWENHDYPAPFTGTLSVRISHNIEIKISFIYPQYPYAGIPKWPMCKHGTVMVNCCA'\n",
    "\n",
    "wt = 0\n",
    "for s in sample:\n",
    "    wt += mass_table[s]\n",
    "\n",
    "print(wt)"
   ]
  },
  {
   "cell_type": "markdown",
   "id": "59a47ce5",
   "metadata": {},
   "source": [
    "## Locating Restriction Sites\n",
    "\n",
    "Given: A DNA string of length at most 1 kbp in FASTA format.\n",
    "\n",
    "Return: The position and length of every reverse palindrome in the string having length between 4 and 12. You may return these pairs in any order."
   ]
  },
  {
   "cell_type": "code",
   "execution_count": null,
   "id": "9760d48f",
   "metadata": {},
   "outputs": [],
   "source": [
    "sample = '''>Rosalind_24\n",
    "TCAATGCATGCGGGTCTATATGCAT'''\n",
    "\n",
    "def find_reverse_palindrome2(dna):\n",
    "    # The reverse complement needs to match up to the original strand, so we need to reverse it.\n",
    "    for i in range(len(dna)-3):\n",
    "        max_len = min(12, len(dna) - i)\n",
    "        for j in range(max_len,3,-1):\n",
    "            s = dna[i:i+j]\n",
    "            if s == revc_dna(s):\n",
    "                print(i + 1, j)\n",
    "\n",
    "#seqlist = read_fasta(StringIO(sample))\n",
    "seqlist = read_fasta('./rosalind_revp.txt')\n",
    "for k, v in seqlist.items():\n",
    "    find_reverse_palindrome(v)"
   ]
  },
  {
   "cell_type": "markdown",
   "id": "d7fea058",
   "metadata": {},
   "source": [
    "## RNA Splicing\n",
    "\n",
    "Given: A DNA string s (of length at most 1 kbp) and a collection of substrings of s acting as introns. All strings are given in FASTA format.\n",
    "\n",
    "Return: A protein string resulting from transcribing and translating the exons of s. (Note: Only one solution will exist for the dataset provided.)"
   ]
  },
  {
   "cell_type": "code",
   "execution_count": null,
   "id": "411cfc57",
   "metadata": {},
   "outputs": [],
   "source": [
    "import os\n",
    "\n",
    "sample = '''>Rosalind_10\n",
    "ATGGTCTACATAGCTGACAAACAGCACGTAGCAATCGGTCGAATCTCGAGAGGCATATGGTCACATGATCGGTCGAGCGTGTTTCAAAGTTTGCGCCTAG\n",
    ">Rosalind_12\n",
    "ATCGGTCGAA\n",
    ">Rosalind_15\n",
    "ATCGGTCGAGCGTGT'''\n",
    "\n",
    "\n",
    "# seqlist = read_fasta(StringIO(sample))\n",
    "seqlist = read_fasta('./rosalind_splc.txt')\n",
    "dna = None\n",
    "introns = []\n",
    "for k, v in seqlist.items():\n",
    "    if not dna:\n",
    "        dna = v\n",
    "    else:\n",
    "        introns.extend((m.start(), m.start() + len(v)) for m in re.finditer(v, dna))\n",
    "\n",
    "introns.sort()\n",
    "splice = ''\n",
    "start = 0\n",
    "for i in introns:\n",
    "    splice += dna[start:i[0]]\n",
    "    start = i[1]\n",
    "if start != len(dna):\n",
    "    splice += dna[start:]\n",
    "\n",
    "prot = rna_to_protein(splice.replace('T', 'U'))\n",
    "print(prot)\n"
   ]
  },
  {
   "cell_type": "markdown",
   "id": "b6938b77",
   "metadata": {},
   "source": [
    "## Enumerating k-mers Lexicographically\n",
    "\n",
    "Given: A collection of at most 10 symbols defining an ordered alphabet, and a positive integer n (n≤10).\n",
    "\n",
    "Return: All strings of length n that can be formed from the alphabet, ordered lexicographically (use the standard order of symbols in the English alphabet)."
   ]
  },
  {
   "cell_type": "code",
   "execution_count": null,
   "id": "f6644610",
   "metadata": {},
   "outputs": [],
   "source": [
    "letters = 'A B C D E F G H'.split()\n",
    "\n",
    "def gen_perm(alphabet, size):\n",
    "    if size == 1:\n",
    "        return alphabet\n",
    "    outp = []\n",
    "    l = gen_perm(alphabet, size - 1)\n",
    "    for a in alphabet:\n",
    "        outp.extend(a+p for p in l)\n",
    "    \n",
    "    return outp\n",
    "    \n",
    "print('\\n'.join(gen_perm(letters, 3)))"
   ]
  },
  {
   "cell_type": "markdown",
   "id": "2ad6bcb5",
   "metadata": {},
   "source": [
    "## Longest Increasing Subsequence\n",
    "\n",
    "Given: A positive integer n≤10000 followed by a permutation π of length n.\n",
    "\n",
    "Return: A longest increasing subsequence of π, followed by a longest decreasing subsequence of π."
   ]
  },
  {
   "cell_type": "code",
   "execution_count": null,
   "id": "b72348e5",
   "metadata": {},
   "outputs": [],
   "source": [
    "%%time\n",
    "\n",
    "test_seq = [5, 1, 4, 2, 3]\n",
    "def longest_incr_subseq(n, seq):\n",
    "    from bisect import bisect_left\n",
    "    #print(seq)\n",
    "    candidates = [[0]]\n",
    "    for x in seq:        \n",
    "        # Binary search to find the right place to insert\n",
    "        lo, hi = 0, len(candidates)\n",
    "        while lo < hi:\n",
    "            mid = (hi + lo) // 2\n",
    "            if x < candidates[mid][-1]:\n",
    "                hi = mid\n",
    "            else:\n",
    "                lo = mid + 1\n",
    "        \n",
    "        # Clone the insertion point and replace the one below\n",
    "        assert lo == hi, f\"lo={lo}, hi={hi}\"\n",
    "        nl = candidates[lo-1] + [x]\n",
    "        if lo == len(candidates):\n",
    "            candidates.append(nl)\n",
    "        else:\n",
    "            candidates[lo] = nl\n",
    "\n",
    "    #print(len(candidates))\n",
    "    return candidates[-1][1:]\n",
    "\n",
    "with open('./rosalind_lgis.txt') as f:\n",
    "    inp = [l.strip() for l in f]\n",
    "    n = int(inp[0])\n",
    "    seq = [int(s) for s in inp[1].split()]\n",
    "    print(' '.join(map(str, longest_incr_subseq(n, seq[0:]))))\n",
    "    rev = longest_incr_subseq(n, seq[::-1])\n",
    "    print(' '.join(map(str, rev[::-1])))\n"
   ]
  },
  {
   "cell_type": "markdown",
   "id": "5cb5039f",
   "metadata": {},
   "source": [
    "## Genome Assembly as Shortest Superstring\n",
    "\n",
    "Given: At most 50 DNA strings of approximately equal length, not exceeding 1 kbp, in FASTA format (which represent reads deriving from the same strand of a single linear chromosome).\n",
    "\n",
    "The dataset is guaranteed to satisfy the following condition: there exists a unique way to reconstruct the entire chromosome from these reads by gluing together pairs of reads that overlap by more than half their length.\n",
    "\n",
    "Return: A shortest superstring containing all the given strings (thus corresponding to a reconstructed chromosome)."
   ]
  },
  {
   "cell_type": "code",
   "execution_count": 4,
   "id": "c7c4822e",
   "metadata": {},
   "outputs": [
    {
     "name": "stdout",
     "output_type": "stream",
     "text": [
      "18456\n",
      "CPU times: user 1.05 s, sys: 14.4 ms, total: 1.06 s\n",
      "Wall time: 1.06 s\n"
     ]
    }
   ],
   "source": [
    "%%time \n",
    "\n",
    "sample='''>Rosalind_56\n",
    "ATTAGACCTG\n",
    ">Rosalind_57\n",
    "CCTGCCGGAA\n",
    ">Rosalind_58\n",
    "AGACCTGCCG\n",
    ">Rosalind_59\n",
    "GCCGGAATAC'''\n",
    "\n",
    "def find_overlap(s1, s2, min_overlap=1):\n",
    "    start = 0\n",
    "    while start in range(len(s1)):\n",
    "        start = s1.find(s2[0], start)\n",
    "        if start >= 0:\n",
    "            for x, y in zip(s1[start:], s2):\n",
    "                if x != y:\n",
    "                    start += 1\n",
    "                    break\n",
    "            else:\n",
    "                return min(len(s1) - start, len(s2))\n",
    "    return 0\n",
    "    \n",
    "\n",
    "def cal_overlap_graph(seqlist, threshold=0.5):\n",
    "    adj = []\n",
    "    for i in range(len(seqlist)):\n",
    "        for j in range(len(seqlist)):\n",
    "            if i != j:\n",
    "                overlap = find_overlap(seqlist[i], seqlist[j])\n",
    "                if overlap >= min(len(seqlist[i]), len(seqlist[j])) * threshold:\n",
    "                    adj.append((i, j, overlap))\n",
    "    return np.array(adj, dtype=np.int16)\n",
    "\n",
    "\n",
    "def assemble_sequence(seqlist):\n",
    "    def find_max_edge(adj, start):\n",
    "        edges = adj[adj[:,0]==start]\n",
    "        return list(edges[0,:]) if edges.size > 0 else []\n",
    "\n",
    "    adj = cal_overlap_graph(seqlist)\n",
    "    #find the beginning of the sequence\n",
    "    start_node = list(set(adj[:,0]) - set(adj[:,1]))[0]\n",
    "    asm_list = [find_max_edge(adj, start_node)]\n",
    "    \n",
    "    while next_edge := find_max_edge(adj, asm_list[-1][1]):\n",
    "        dest = next_edge[1]\n",
    "        asm_list.append(next_edge)\n",
    "\n",
    "    s = seqlist[asm_list[0][0]]\n",
    "    for a in asm_list:\n",
    "        s += seqlist[a[1]][a[2]:]\n",
    "    return s\n",
    "\n",
    "if 1:\n",
    "    seqlist = list(read_fasta('./rosalind_long.txt').values())\n",
    "else:\n",
    "    seqlist = list(read_fasta(StringIO(sample)).values())\n",
    "\n",
    "ass1 = assemble_sequence(seqlist)\n",
    "print(len(ass1))\n"
   ]
  },
  {
   "cell_type": "code",
   "execution_count": 288,
   "id": "379e80d8",
   "metadata": {},
   "outputs": [
    {
     "name": "stdout",
     "output_type": "stream",
     "text": [
      "[2 2 3]\n"
     ]
    }
   ],
   "source": [
    "a = np.array([[1, 2, 3],[2,2,3],[3,3,3]])\n",
    "print(a[1,:])"
   ]
  },
  {
   "cell_type": "markdown",
   "id": "ca612a94",
   "metadata": {},
   "source": [
    "## Perfect Matchings and RNA Secondary Structures\n",
    "\n",
    "Given: An RNA string s of length at most 80 bp having the same number of occurrences of 'A' as 'U' and the same number of occurrences of 'C' as 'G'.\n",
    "\n",
    "Return: The total possible number of perfect matchings of basepair edges in the bonding graph of s."
   ]
  },
  {
   "cell_type": "code",
   "execution_count": 2,
   "id": "8cbb9769",
   "metadata": {},
   "outputs": [],
   "source": [
    "sample='''>Rosalind_23\n",
    "AGCUAGUCAU'''\n",
    "\n",
    "seqlist = read_fasta(StringIO(sample))\n"
   ]
  },
  {
   "cell_type": "code",
   "execution_count": 4,
   "id": "18e8351e-f57d-4212-b76d-d45f7cd2fb41",
   "metadata": {},
   "outputs": [
    {
     "ename": "NameError",
     "evalue": "name 'rna_to_protein' is not defined",
     "output_type": "error",
     "traceback": [
      "\u001b[0;31m---------------------------------------------------------------------------\u001b[0m",
      "\u001b[0;31mNameError\u001b[0m                                 Traceback (most recent call last)",
      "\u001b[0;32m<ipython-input-4-7c5cccf9837e>\u001b[0m in \u001b[0;36m<module>\u001b[0;34m\u001b[0m\n\u001b[0;32m----> 1\u001b[0;31m \u001b[0mrna_to_protein\u001b[0m\u001b[0;34m(\u001b[0m\u001b[0;34m'AUG AGC CGU UAA UCUAUUUAAGGCCUGAAGUAACGUAUGG'\u001b[0m\u001b[0;34m)\u001b[0m\u001b[0;34m\u001b[0m\u001b[0;34m\u001b[0m\u001b[0m\n\u001b[0m",
      "\u001b[0;31mNameError\u001b[0m: name 'rna_to_protein' is not defined"
     ]
    }
   ],
   "source": [
    "rna_to_protein('AUG AGC CGU UAA UCUAUUUAAGGCCUGAAGUAACGUAUGG')"
   ]
  },
  {
   "cell_type": "code",
   "execution_count": 2,
   "id": "2a69997a-f22d-486e-8fcf-9a0f09dd51ae",
   "metadata": {},
   "outputs": [
    {
     "name": "stdout",
     "output_type": "stream",
     "text": [
      "7\n"
     ]
    }
   ],
   "source": [
    "\n",
    "def foo_func(a, b):\n",
    "    print(a+b)\n",
    "    \n",
    "method = 'foo_func'\n",
    "locals()[method](1, 6)"
   ]
  },
  {
   "cell_type": "code",
   "execution_count": null,
   "id": "a8de7f3b",
   "metadata": {},
   "outputs": [],
   "source": []
  }
 ],
 "metadata": {
  "kernelspec": {
   "display_name": "Python 3",
   "language": "python",
   "name": "python3"
  },
  "language_info": {
   "codemirror_mode": {
    "name": "ipython",
    "version": 3
   },
   "file_extension": ".py",
   "mimetype": "text/x-python",
   "name": "python",
   "nbconvert_exporter": "python",
   "pygments_lexer": "ipython3",
   "version": "3.8.8"
  }
 },
 "nbformat": 4,
 "nbformat_minor": 5
}
